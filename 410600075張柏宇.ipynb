{
  "nbformat": 4,
  "nbformat_minor": 0,
  "metadata": {
    "colab": {
      "name": "410600075張柏宇.ipynb",
      "provenance": [],
      "authorship_tag": "ABX9TyN+KjvrS5NdAA5mUTWHD06A",
      "include_colab_link": true
    },
    "kernelspec": {
      "name": "python3",
      "display_name": "Python 3"
    },
    "language_info": {
      "name": "python"
    }
  },
  "cells": [
    {
      "cell_type": "markdown",
      "metadata": {
        "id": "view-in-github",
        "colab_type": "text"
      },
      "source": [
        "<a href=\"https://colab.research.google.com/github/yu0115/Introduction-to-Computers/blob/main/410600075%E5%BC%B5%E6%9F%8F%E5%AE%87.ipynb\" target=\"_parent\"><img src=\"https://colab.research.google.com/assets/colab-badge.svg\" alt=\"Open In Colab\"/></a>"
      ]
    },
    {
      "cell_type": "code",
      "execution_count": 16,
      "metadata": {
        "colab": {
          "base_uri": "https://localhost:8080/"
        },
        "id": "8dlX3Z3dvhW-",
        "outputId": "36c2bdba-02bf-49c7-dd54-eb8c8c15f39c"
      },
      "outputs": [
        {
          "output_type": "stream",
          "name": "stdout",
          "text": [
            "2\n",
            "6\n",
            "1\n",
            "7\n",
            "5\n",
            "end\n"
          ]
        }
      ],
      "source": [
        "a=[2,6,1,7,5]\n",
        "#len(a)\n",
        "#max(a)\n",
        "#min(a)\n",
        "#sorted(a)\n",
        "\n",
        "#加入append\n",
        "#a.append(9)\n",
        "#a\n",
        "\n",
        "#找索引index\n",
        "#a.index(5)\n",
        "\n",
        "#特定位置加入\n",
        "#a.insert(1,10)\n",
        "#a\n",
        "\n",
        "#刪除remove\n",
        "#a.remove(7)\n",
        "#a\n",
        "\n",
        "#特定位置刪除pop\n",
        "#a.pop(1)\n",
        "#a\n",
        "\n",
        "#倒轉\n",
        "#a.revers()\n",
        "#a\n",
        "\n",
        "for i in a:\n",
        "  print(i)\n",
        "print(\"end\")  "
      ]
    },
    {
      "cell_type": "code",
      "source": [
        "b=[]\n",
        "\n",
        "for i in range(11):\n",
        "  b.append(i)\n",
        "  print(b)\n",
        "print(b)"
      ],
      "metadata": {
        "colab": {
          "base_uri": "https://localhost:8080/"
        },
        "id": "zMquPRLCwRXI",
        "outputId": "8e8bbb4b-2094-4a46-d6c9-ea706de3b2d6"
      },
      "execution_count": 27,
      "outputs": [
        {
          "output_type": "stream",
          "name": "stdout",
          "text": [
            "[0]\n",
            "[0, 1]\n",
            "[0, 1, 2]\n",
            "[0, 1, 2, 3]\n",
            "[0, 1, 2, 3, 4]\n",
            "[0, 1, 2, 3, 4, 5]\n",
            "[0, 1, 2, 3, 4, 5, 6]\n",
            "[0, 1, 2, 3, 4, 5, 6, 7]\n",
            "[0, 1, 2, 3, 4, 5, 6, 7, 8]\n",
            "[0, 1, 2, 3, 4, 5, 6, 7, 8, 9]\n",
            "[0, 1, 2, 3, 4, 5, 6, 7, 8, 9, 10]\n",
            "[0, 1, 2, 3, 4, 5, 6, 7, 8, 9, 10]\n"
          ]
        }
      ]
    },
    {
      "cell_type": "code",
      "source": [
        "c=[\"a\",\"b\",\"c\",\"d\",\"e\"]\n",
        "print(len(a))\n",
        "for i in range(len(c)):\n",
        "  print(c[i])"
      ],
      "metadata": {
        "colab": {
          "base_uri": "https://localhost:8080/"
        },
        "id": "spUQZ4Lf2Rhn",
        "outputId": "4edf5ce9-6780-4736-e61d-b345d785c526"
      },
      "execution_count": 28,
      "outputs": [
        {
          "output_type": "stream",
          "name": "stdout",
          "text": [
            "5\n",
            "a\n",
            "b\n",
            "c\n",
            "d\n",
            "e\n"
          ]
        }
      ]
    },
    {
      "cell_type": "code",
      "source": [
        ""
      ],
      "metadata": {
        "id": "6pGuUdjr3kfT"
      },
      "execution_count": null,
      "outputs": []
    }
  ]
}