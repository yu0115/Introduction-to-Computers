{
  "nbformat": 4,
  "nbformat_minor": 0,
  "metadata": {
    "colab": {
      "name": "0523.ipynb",
      "provenance": [],
      "authorship_tag": "ABX9TyNxT2udvTITLpOyIJyhX22d",
      "include_colab_link": true
    },
    "kernelspec": {
      "name": "python3",
      "display_name": "Python 3"
    },
    "language_info": {
      "name": "python"
    }
  },
  "cells": [
    {
      "cell_type": "markdown",
      "metadata": {
        "id": "view-in-github",
        "colab_type": "text"
      },
      "source": [
        "<a href=\"https://colab.research.google.com/github/yu0115/Introduction-to-Computers/blob/main/0523.ipynb\" target=\"_parent\"><img src=\"https://colab.research.google.com/assets/colab-badge.svg\" alt=\"Open In Colab\"/></a>"
      ]
    },
    {
      "cell_type": "code",
      "execution_count": 1,
      "metadata": {
        "colab": {
          "base_uri": "https://localhost:8080/"
        },
        "id": "X56Gxa1S-Tx4",
        "outputId": "e670a5b8-bceb-4d37-99fa-f714e66e54fe"
      },
      "outputs": [
        {
          "output_type": "stream",
          "name": "stdout",
          "text": [
            "0523\n"
          ]
        }
      ],
      "source": [
        "print('0523')"
      ]
    },
    {
      "cell_type": "code",
      "source": [
        "sum = 0\n",
        "test = int(input('請輸入正整數'))\n",
        "for n in range(1,test+1):\n",
        "  sum =sum+n\n",
        "print('1到',test,'的整數和為:',sum)  \n"
      ],
      "metadata": {
        "colab": {
          "base_uri": "https://localhost:8080/"
        },
        "id": "WkuT2nYE_HHJ",
        "outputId": "c82e11a3-05b7-4130-a6a8-1f4ebb397c84"
      },
      "execution_count": 6,
      "outputs": [
        {
          "output_type": "stream",
          "name": "stdout",
          "text": [
            "請輸入正整數10\n",
            "1到 10 的整數和為: 55\n"
          ]
        }
      ]
    },
    {
      "cell_type": "code",
      "source": [
        "sum = 0\n",
        "test = int(input('請輸入一個正整數'))\n",
        "for m in range(1,test+1):\n",
        "  sum =sum+n\n",
        "  print('1到',str(m),'的整數和為:',sum)  "
      ],
      "metadata": {
        "colab": {
          "base_uri": "https://localhost:8080/"
        },
        "id": "jbOi5w1f_p0H",
        "outputId": "c5f6174f-1659-4da0-e485-fcbbcb27e605"
      },
      "execution_count": 8,
      "outputs": [
        {
          "output_type": "stream",
          "name": "stdout",
          "text": [
            "請輸入一個正整數50\n",
            "1到 1 的整數和為: 1\n",
            "1到 2 的整數和為: 2\n",
            "1到 3 的整數和為: 3\n",
            "1到 4 的整數和為: 4\n",
            "1到 5 的整數和為: 5\n",
            "1到 6 的整數和為: 6\n",
            "1到 7 的整數和為: 7\n",
            "1到 8 的整數和為: 8\n",
            "1到 9 的整數和為: 9\n",
            "1到 10 的整數和為: 10\n",
            "1到 11 的整數和為: 11\n",
            "1到 12 的整數和為: 12\n",
            "1到 13 的整數和為: 13\n",
            "1到 14 的整數和為: 14\n",
            "1到 15 的整數和為: 15\n",
            "1到 16 的整數和為: 16\n",
            "1到 17 的整數和為: 17\n",
            "1到 18 的整數和為: 18\n",
            "1到 19 的整數和為: 19\n",
            "1到 20 的整數和為: 20\n",
            "1到 21 的整數和為: 21\n",
            "1到 22 的整數和為: 22\n",
            "1到 23 的整數和為: 23\n",
            "1到 24 的整數和為: 24\n",
            "1到 25 的整數和為: 25\n",
            "1到 26 的整數和為: 26\n",
            "1到 27 的整數和為: 27\n",
            "1到 28 的整數和為: 28\n",
            "1到 29 的整數和為: 29\n",
            "1到 30 的整數和為: 30\n",
            "1到 31 的整數和為: 31\n",
            "1到 32 的整數和為: 32\n",
            "1到 33 的整數和為: 33\n",
            "1到 34 的整數和為: 34\n",
            "1到 35 的整數和為: 35\n",
            "1到 36 的整數和為: 36\n",
            "1到 37 的整數和為: 37\n",
            "1到 38 的整數和為: 38\n",
            "1到 39 的整數和為: 39\n",
            "1到 40 的整數和為: 40\n",
            "1到 41 的整數和為: 41\n",
            "1到 42 的整數和為: 42\n",
            "1到 43 的整數和為: 43\n",
            "1到 44 的整數和為: 44\n",
            "1到 45 的整數和為: 45\n",
            "1到 46 的整數和為: 46\n",
            "1到 47 的整數和為: 47\n",
            "1到 48 的整數和為: 48\n",
            "1到 49 的整數和為: 49\n",
            "1到 50 的整數和為: 50\n"
          ]
        }
      ]
    },
    {
      "cell_type": "code",
      "source": [
        "for j in range(1,5):\n",
        "  print(j)\n",
        "  for i in range(1,3):\n",
        "    k=i*j\n",
        "    print(j,'*',i,'=',k)"
      ],
      "metadata": {
        "colab": {
          "base_uri": "https://localhost:8080/"
        },
        "id": "2kqp7KUTAQoG",
        "outputId": "3d250960-02b7-4e51-abaf-39d626f1bc62"
      },
      "execution_count": 9,
      "outputs": [
        {
          "output_type": "stream",
          "name": "stdout",
          "text": [
            "1\n",
            "1 * 1 = 1\n",
            "1 * 2 = 2\n",
            "2\n",
            "2 * 1 = 2\n",
            "2 * 2 = 4\n",
            "3\n",
            "3 * 1 = 3\n",
            "3 * 2 = 6\n",
            "4\n",
            "4 * 1 = 4\n",
            "4 * 2 = 8\n"
          ]
        }
      ]
    },
    {
      "cell_type": "code",
      "source": [
        "for j in range(1,5+1):\n",
        "  print(j)\n",
        "  for i in range(1,3):\n",
        "    k=i*j\n",
        "    print(j,'*',i,'=',k)"
      ],
      "metadata": {
        "colab": {
          "base_uri": "https://localhost:8080/"
        },
        "id": "3peWVFfNC-ub",
        "outputId": "930a77a3-28a3-48ba-ff50-c4cc66f6df53"
      },
      "execution_count": 11,
      "outputs": [
        {
          "output_type": "stream",
          "name": "stdout",
          "text": [
            "1\n",
            "1 * 1 = 1\n",
            "1 * 2 = 2\n",
            "2\n",
            "2 * 1 = 2\n",
            "2 * 2 = 4\n",
            "3\n",
            "3 * 1 = 3\n",
            "3 * 2 = 6\n",
            "4\n",
            "4 * 1 = 4\n",
            "4 * 2 = 8\n",
            "5\n",
            "5 * 1 = 5\n",
            "5 * 2 = 10\n"
          ]
        }
      ]
    },
    {
      "cell_type": "code",
      "source": [
        "#9*9乘法表\n",
        "for i in range(1,10):\n",
        "  for j in range(1,10):\n",
        "    print(f\"{j}*{i}\",end=\"\\t\")\n",
        "  print()"
      ],
      "metadata": {
        "colab": {
          "base_uri": "https://localhost:8080/"
        },
        "id": "sVnSCWP8D9Wp",
        "outputId": "a0174835-190f-45f6-cc1d-270435ba8836"
      },
      "execution_count": 24,
      "outputs": [
        {
          "output_type": "stream",
          "name": "stdout",
          "text": [
            "1*1\t2*1\t3*1\t4*1\t5*1\t6*1\t7*1\t8*1\t9*1\t\n",
            "1*2\t2*2\t3*2\t4*2\t5*2\t6*2\t7*2\t8*2\t9*2\t\n",
            "1*3\t2*3\t3*3\t4*3\t5*3\t6*3\t7*3\t8*3\t9*3\t\n",
            "1*4\t2*4\t3*4\t4*4\t5*4\t6*4\t7*4\t8*4\t9*4\t\n",
            "1*5\t2*5\t3*5\t4*5\t5*5\t6*5\t7*5\t8*5\t9*5\t\n",
            "1*6\t2*6\t3*6\t4*6\t5*6\t6*6\t7*6\t8*6\t9*6\t\n",
            "1*7\t2*7\t3*7\t4*7\t5*7\t6*7\t7*7\t8*7\t9*7\t\n",
            "1*8\t2*8\t3*8\t4*8\t5*8\t6*8\t7*8\t8*8\t9*8\t\n",
            "1*9\t2*9\t3*9\t4*9\t5*9\t6*9\t7*9\t8*9\t9*9\t\n"
          ]
        }
      ]
    },
    {
      "cell_type": "code",
      "source": [
        "for i in range(1,5):\n",
        "  if(i==4):\n",
        "    break\n",
        "  print(i, end=' ')\n"
      ],
      "metadata": {
        "colab": {
          "base_uri": "https://localhost:8080/"
        },
        "id": "fdPejnrgElS5",
        "outputId": "ca81d324-3f80-443f-922d-3f73a5a55b4c"
      },
      "execution_count": 17,
      "outputs": [
        {
          "output_type": "stream",
          "name": "stdout",
          "text": [
            "1 2 3 "
          ]
        }
      ]
    },
    {
      "cell_type": "code",
      "source": [
        "for i in range(1,5):\n",
        "  if(i==4):\n",
        "    continue\n",
        "  print(i, end=' ')"
      ],
      "metadata": {
        "colab": {
          "base_uri": "https://localhost:8080/"
        },
        "id": "WMqVa-OgEtHR",
        "outputId": "284b4e72-c193-4ed4-c2ca-5056619be4e6"
      },
      "execution_count": 19,
      "outputs": [
        {
          "output_type": "stream",
          "name": "stdout",
          "text": [
            "1 2 3 "
          ]
        }
      ]
    },
    {
      "cell_type": "code",
      "source": [
        "count = 0\n",
        "for string in '測試看看!':\n",
        "  count+=1\n",
        "  if string == '看':\n",
        "    break\n",
        "  print(string)\n",
        "print('迴圈結束')\n",
        "print('迴圈執行了 %d 次'%count)"
      ],
      "metadata": {
        "colab": {
          "base_uri": "https://localhost:8080/"
        },
        "id": "U7eMttDcFTZJ",
        "outputId": "30489626-7694-47ba-ac72-9b3fe1d7df5c"
      },
      "execution_count": 23,
      "outputs": [
        {
          "output_type": "stream",
          "name": "stdout",
          "text": [
            "測\n",
            "試\n",
            "迴圈結束\n",
            "迴圈執行了 3 次\n"
          ]
        }
      ]
    },
    {
      "cell_type": "code",
      "source": [
        "count = 0\n",
        "for string in 'apple':\n",
        "  count+=1\n",
        "  if string == 'l':\n",
        "    break\n",
        "  print(string)\n",
        "print('迴圈結束')\n",
        "print('迴圈執行了 %d 次'%count)"
      ],
      "metadata": {
        "colab": {
          "base_uri": "https://localhost:8080/"
        },
        "id": "-VgujislGfqk",
        "outputId": "a202821d-fe7f-4ee4-e3ac-a2531f259e3b"
      },
      "execution_count": 25,
      "outputs": [
        {
          "output_type": "stream",
          "name": "stdout",
          "text": [
            "a\n",
            "p\n",
            "p\n",
            "迴圈結束\n",
            "迴圈執行了 4 次\n"
          ]
        }
      ]
    },
    {
      "cell_type": "code",
      "source": [
        "a = int(input('請輸入a的值:'))\n",
        "b = int(input('請輸入b的值:'))\n",
        "ab = a*b\n",
        "for i in range(1,ab+1):\n",
        "  if(i% a ==0 and i% b ==0):\n",
        "    break\n",
        "print('%d和%d的最小公倍數=%d'%(a,b,i))"
      ],
      "metadata": {
        "colab": {
          "base_uri": "https://localhost:8080/"
        },
        "id": "rKy8bJrOH_tE",
        "outputId": "e5a1bc47-c133-4ed6-9173-94913814a09f"
      },
      "execution_count": 29,
      "outputs": [
        {
          "output_type": "stream",
          "name": "stdout",
          "text": [
            "請輸入a的值:9\n",
            "請輸入b的值:15\n",
            "9和15的最小公倍數=45\n"
          ]
        }
      ]
    },
    {
      "cell_type": "code",
      "source": [
        "number = int(input('請輸入正整數:'))\n",
        "for i in range(1,number+1):\n",
        "  if i % 5 ==0:\n",
        "    continue\n",
        "  print(i,end=' ')\n"
      ],
      "metadata": {
        "colab": {
          "base_uri": "https://localhost:8080/"
        },
        "id": "SPgy7ILEIAe2",
        "outputId": "256d1e80-2743-4f9b-e2b8-18cdd1cd0d26"
      },
      "execution_count": 33,
      "outputs": [
        {
          "output_type": "stream",
          "name": "stdout",
          "text": [
            "請輸入正整數:21\n",
            "1 2 3 4 6 7 8 9 11 12 13 14 16 17 18 19 21 "
          ]
        }
      ]
    },
    {
      "cell_type": "code",
      "source": [
        ""
      ],
      "metadata": {
        "id": "rh8psn7SIAwC"
      },
      "execution_count": 33,
      "outputs": []
    }
  ]
}