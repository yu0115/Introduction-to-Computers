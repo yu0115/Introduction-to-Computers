{
  "nbformat": 4,
  "nbformat_minor": 0,
  "metadata": {
    "colab": {
      "name": "0328.ipynb",
      "provenance": [],
      "collapsed_sections": [],
      "authorship_tag": "ABX9TyP/L7T6y2fC6mAt9VWM+1yH",
      "include_colab_link": true
    },
    "kernelspec": {
      "name": "python3",
      "display_name": "Python 3"
    },
    "language_info": {
      "name": "python"
    }
  },
  "cells": [
    {
      "cell_type": "markdown",
      "metadata": {
        "id": "view-in-github",
        "colab_type": "text"
      },
      "source": [
        "<a href=\"https://colab.research.google.com/github/yu0115/Introduction-to-Computers/blob/main/0328.ipynb\" target=\"_parent\"><img src=\"https://colab.research.google.com/assets/colab-badge.svg\" alt=\"Open In Colab\"/></a>"
      ]
    },
    {
      "cell_type": "code",
      "execution_count": 1,
      "metadata": {
        "colab": {
          "base_uri": "https://localhost:8080/"
        },
        "id": "ArcK7_gOnJcD",
        "outputId": "a689a818-645c-4643-ca82-065e68dc2805"
      },
      "outputs": [
        {
          "output_type": "execute_result",
          "data": {
            "text/plain": [
              "15"
            ]
          },
          "metadata": {},
          "execution_count": 1
        }
      ],
      "source": [
        "12+3"
      ]
    },
    {
      "cell_type": "code",
      "source": [
        "12-3"
      ],
      "metadata": {
        "colab": {
          "base_uri": "https://localhost:8080/"
        },
        "id": "KiPmh29LnXJb",
        "outputId": "ed3c5af9-e1b1-4b6f-c2b0-6950d5e6c567"
      },
      "execution_count": 2,
      "outputs": [
        {
          "output_type": "execute_result",
          "data": {
            "text/plain": [
              "15"
            ]
          },
          "metadata": {},
          "execution_count": 2
        }
      ]
    },
    {
      "cell_type": "code",
      "source": [
        "12*3"
      ],
      "metadata": {
        "colab": {
          "base_uri": "https://localhost:8080/"
        },
        "id": "lb5OeIftnX9m",
        "outputId": "0a7f5951-884b-4852-b565-59a2ae8fd7c5"
      },
      "execution_count": 3,
      "outputs": [
        {
          "output_type": "execute_result",
          "data": {
            "text/plain": [
              "36"
            ]
          },
          "metadata": {},
          "execution_count": 3
        }
      ]
    },
    {
      "cell_type": "code",
      "source": [
        "32/5"
      ],
      "metadata": {
        "colab": {
          "base_uri": "https://localhost:8080/"
        },
        "id": "PQb1MYODna2G",
        "outputId": "2472156e-75ce-44d7-e060-6649ffbaba4e"
      },
      "execution_count": 4,
      "outputs": [
        {
          "output_type": "execute_result",
          "data": {
            "text/plain": [
              "6.4"
            ]
          },
          "metadata": {},
          "execution_count": 4
        }
      ]
    },
    {
      "cell_type": "code",
      "source": [
        "32%5"
      ],
      "metadata": {
        "colab": {
          "base_uri": "https://localhost:8080/"
        },
        "id": "y45cGveon2WQ",
        "outputId": "ce10ad86-28b6-44bf-8488-0e7de0b80836"
      },
      "execution_count": 5,
      "outputs": [
        {
          "output_type": "execute_result",
          "data": {
            "text/plain": [
              "2"
            ]
          },
          "metadata": {},
          "execution_count": 5
        }
      ]
    },
    {
      "cell_type": "code",
      "source": [
        "32//5"
      ],
      "metadata": {
        "colab": {
          "base_uri": "https://localhost:8080/"
        },
        "id": "z2Ql9Zjzn3MJ",
        "outputId": "f442397d-e5b5-473a-9443-82b1f4a4e37b"
      },
      "execution_count": 6,
      "outputs": [
        {
          "output_type": "execute_result",
          "data": {
            "text/plain": [
              "6"
            ]
          },
          "metadata": {},
          "execution_count": 6
        }
      ]
    },
    {
      "cell_type": "code",
      "source": [
        "7**2"
      ],
      "metadata": {
        "colab": {
          "base_uri": "https://localhost:8080/"
        },
        "id": "ps53Hgs7oJjz",
        "outputId": "ef0d8e06-3827-4a7d-f443-cf652b5614d0"
      },
      "execution_count": 7,
      "outputs": [
        {
          "output_type": "execute_result",
          "data": {
            "text/plain": [
              "49"
            ]
          },
          "metadata": {},
          "execution_count": 7
        }
      ]
    },
    {
      "cell_type": "code",
      "source": [
        "上底 = int(input('請輸入梯形上底長度;'))\n",
        "下底 = int(input('請輸入梯形下底長度;'))\n",
        "高 = int(input('請輸入的高度;'))\n",
        "面積 = (上底 + 下底) * 高 / 2"
      ],
      "metadata": {
        "colab": {
          "base_uri": "https://localhost:8080/"
        },
        "id": "fBA0jcEBoK3b",
        "outputId": "4d817eb1-90f0-4154-86e8-b70125710786"
      },
      "execution_count": 21,
      "outputs": [
        {
          "name": "stdout",
          "output_type": "stream",
          "text": [
            "請輸入梯形上底長度;3\n",
            "請輸入梯形下底長度;4\n",
            "請輸入的高度;3\n"
          ]
        }
      ]
    },
    {
      "cell_type": "code",
      "source": [
        "面積"
      ],
      "metadata": {
        "colab": {
          "base_uri": "https://localhost:8080/"
        },
        "id": "BTyUwv1Zo_N1",
        "outputId": "54bfea31-ec76-4a34-829c-de0642aab445"
      },
      "execution_count": 12,
      "outputs": [
        {
          "output_type": "execute_result",
          "data": {
            "text/plain": [
              "10.5"
            ]
          },
          "metadata": {},
          "execution_count": 12
        }
      ]
    },
    {
      "cell_type": "code",
      "source": [
        "上底 = int(input('請輸入梯形上底長度;'))\n",
        "下底 = int(input('請輸入梯形下底長度;'))\n",
        "高 = int(input('請輸入的高度;'))\n",
        "面積 = (上底 + 下底) * 高 / 2\n",
        "print('梯形上底長度為:',上底,'梯形下底長度為:',下底,'梯形高度為:',高,'梯形面積為:',面積)"
      ],
      "metadata": {
        "colab": {
          "base_uri": "https://localhost:8080/"
        },
        "id": "uU-i-t8FpfGV",
        "outputId": "2104e4e4-00d1-4f5f-d5f5-61c3e5ac3d5f"
      },
      "execution_count": 20,
      "outputs": [
        {
          "output_type": "stream",
          "name": "stdout",
          "text": [
            "請輸入梯形上底長度;3\n",
            "請輸入梯形下底長度;4\n",
            "請輸入的高度;3\n",
            "梯形上底長度為: 3 梯形下底長度為: 4 梯形高度為: 3 梯形面積為: 10.5\n"
          ]
        }
      ]
    },
    {
      "cell_type": "code",
      "source": [
        "print('梯形上底長度為: %d,梯形下底長度為: %d,梯形高度為: %d, 梯形面積為: %f' %(上底,下底,高,面積))\n"
      ],
      "metadata": {
        "colab": {
          "base_uri": "https://localhost:8080/"
        },
        "id": "5QAmMMWuy17Y",
        "outputId": "39c606c2-102c-448c-a0cc-f285e0ad2472"
      },
      "execution_count": 27,
      "outputs": [
        {
          "output_type": "stream",
          "name": "stdout",
          "text": [
            "梯形上底長度為: 3,梯形下底長度為: 4,梯形高度為: 3, 梯形面積為: 10.500000\n"
          ]
        }
      ]
    },
    {
      "cell_type": "code",
      "source": [
        "print('梯形上底長度為: %d,梯形下底長度為: %d,梯形高度為: %d, 梯形面積為: %0.2f' %(上底,下底,高,面積))"
      ],
      "metadata": {
        "colab": {
          "base_uri": "https://localhost:8080/"
        },
        "id": "hsjPS_BptQ3A",
        "outputId": "30bb0981-d02a-411b-9376-e3c43c1200cd"
      },
      "execution_count": 26,
      "outputs": [
        {
          "output_type": "stream",
          "name": "stdout",
          "text": [
            "梯形上底長度為: 3,梯形下底長度為: 4,梯形高度為: 3, 梯形面積為: 10.50\n"
          ]
        }
      ]
    },
    {
      "cell_type": "code",
      "source": [
        "a = 1.1\n",
        "b = 2.02\n",
        "c = 3.003"
      ],
      "metadata": {
        "id": "7TrlzPURvToT"
      },
      "execution_count": 65,
      "outputs": []
    },
    {
      "cell_type": "code",
      "source": [
        "print('a=%0.1f,b=%0.2f,c=%0.3f'%(a,b,c))"
      ],
      "metadata": {
        "colab": {
          "base_uri": "https://localhost:8080/"
        },
        "id": "kRTj7UEkzr2U",
        "outputId": "6d8e9cb5-6724-4bde-e671-ef093052e2c1"
      },
      "execution_count": 69,
      "outputs": [
        {
          "output_type": "stream",
          "name": "stdout",
          "text": [
            "a=1.1,b=2.02,c=3.003\n"
          ]
        }
      ]
    },
    {
      "cell_type": "code",
      "source": [
        "身高=int(input(\"請輸入您的身高(cm)\"))\n",
        "體重=int(input(\"請輸入您的體重(kg)\"))\n",
        "BMI=體重/(身高/100)**2\n",
        "print(\"身高%d公分,體重%d公斤,BMI值為%0.2f\" %(身高,體重,BMI))"
      ],
      "metadata": {
        "colab": {
          "base_uri": "https://localhost:8080/"
        },
        "id": "oEZGOII06Fdd",
        "outputId": "70beacbf-26a2-4123-bede-7d5bf94bd66b"
      },
      "execution_count": 60,
      "outputs": [
        {
          "output_type": "stream",
          "name": "stdout",
          "text": [
            "請輸入您的身高(cm)180\n",
            "請輸入您的體重(kg)80\n",
            "身高180公分,體重80公斤,BMI值為24.69\n"
          ]
        }
      ]
    },
    {
      "cell_type": "code",
      "source": [
        "6+9==2+13"
      ],
      "metadata": {
        "colab": {
          "base_uri": "https://localhost:8080/"
        },
        "id": "MJMeg6cZ0Et1",
        "outputId": "a5af8833-a4c1-4803-befb-e3adabd17f17"
      },
      "execution_count": 45,
      "outputs": [
        {
          "output_type": "execute_result",
          "data": {
            "text/plain": [
              "True"
            ]
          },
          "metadata": {},
          "execution_count": 45
        }
      ]
    },
    {
      "cell_type": "code",
      "source": [
        "8+9==2+13"
      ],
      "metadata": {
        "colab": {
          "base_uri": "https://localhost:8080/"
        },
        "id": "AQMWMgwA5GAw",
        "outputId": "a87468bc-cc6e-40fc-ee6c-d66d1a6134a5"
      },
      "execution_count": 46,
      "outputs": [
        {
          "output_type": "execute_result",
          "data": {
            "text/plain": [
              "False"
            ]
          },
          "metadata": {},
          "execution_count": 46
        }
      ]
    },
    {
      "cell_type": "code",
      "source": [
        "8+9>2+13"
      ],
      "metadata": {
        "colab": {
          "base_uri": "https://localhost:8080/"
        },
        "id": "0rmFBnLa4FJ2",
        "outputId": "adcb144a-1aef-498e-8959-f647b373f194"
      },
      "execution_count": 47,
      "outputs": [
        {
          "output_type": "execute_result",
          "data": {
            "text/plain": [
              "True"
            ]
          },
          "metadata": {},
          "execution_count": 47
        }
      ]
    },
    {
      "cell_type": "code",
      "source": [
        "6+9>2+13"
      ],
      "metadata": {
        "colab": {
          "base_uri": "https://localhost:8080/"
        },
        "id": "GdP_FzhI5LuO",
        "outputId": "bb06ce7d-02a4-48e6-e899-9ce7f351c56b"
      },
      "execution_count": 48,
      "outputs": [
        {
          "output_type": "execute_result",
          "data": {
            "text/plain": [
              "False"
            ]
          },
          "metadata": {},
          "execution_count": 48
        }
      ]
    },
    {
      "cell_type": "code",
      "source": [
        "5+9<2+13"
      ],
      "metadata": {
        "colab": {
          "base_uri": "https://localhost:8080/"
        },
        "id": "275_85QF4ZpM",
        "outputId": "700fd905-caa4-406b-9f5c-4b475be99c6e"
      },
      "execution_count": 49,
      "outputs": [
        {
          "output_type": "execute_result",
          "data": {
            "text/plain": [
              "True"
            ]
          },
          "metadata": {},
          "execution_count": 49
        }
      ]
    },
    {
      "cell_type": "code",
      "source": [
        "8+9<2+13"
      ],
      "metadata": {
        "colab": {
          "base_uri": "https://localhost:8080/"
        },
        "id": "mhK1kKV45PoD",
        "outputId": "b39783fc-9586-4c39-bac1-71dedfbc3b73"
      },
      "execution_count": 50,
      "outputs": [
        {
          "output_type": "execute_result",
          "data": {
            "text/plain": [
              "False"
            ]
          },
          "metadata": {},
          "execution_count": 50
        }
      ]
    },
    {
      "cell_type": "code",
      "source": [
        "6+9>=2+13\n"
      ],
      "metadata": {
        "colab": {
          "base_uri": "https://localhost:8080/"
        },
        "id": "nrk96KdL42dD",
        "outputId": "3e3e6220-b0ed-431d-be71-53105e5f7347"
      },
      "execution_count": 51,
      "outputs": [
        {
          "output_type": "execute_result",
          "data": {
            "text/plain": [
              "True"
            ]
          },
          "metadata": {},
          "execution_count": 51
        }
      ]
    },
    {
      "cell_type": "code",
      "source": [
        "3+9>+2+13"
      ],
      "metadata": {
        "colab": {
          "base_uri": "https://localhost:8080/"
        },
        "id": "sVscOfus45_3",
        "outputId": "963302c0-1595-4fd7-8521-ff88d50d719e"
      },
      "execution_count": 52,
      "outputs": [
        {
          "output_type": "execute_result",
          "data": {
            "text/plain": [
              "False"
            ]
          },
          "metadata": {},
          "execution_count": 52
        }
      ]
    },
    {
      "cell_type": "code",
      "source": [
        "3+9<=2+13"
      ],
      "metadata": {
        "colab": {
          "base_uri": "https://localhost:8080/"
        },
        "id": "GegtXtbR5eao",
        "outputId": "ca540472-28f6-49b1-e4bc-17cadcec029d"
      },
      "execution_count": 53,
      "outputs": [
        {
          "output_type": "execute_result",
          "data": {
            "text/plain": [
              "True"
            ]
          },
          "metadata": {},
          "execution_count": 53
        }
      ]
    },
    {
      "cell_type": "code",
      "source": [
        "8+9<=2+13"
      ],
      "metadata": {
        "colab": {
          "base_uri": "https://localhost:8080/"
        },
        "id": "uKJI-ufY5he-",
        "outputId": "0199f53b-cf66-46a8-fab6-3abacbad0f6b"
      },
      "execution_count": 54,
      "outputs": [
        {
          "output_type": "execute_result",
          "data": {
            "text/plain": [
              "False"
            ]
          },
          "metadata": {},
          "execution_count": 54
        }
      ]
    },
    {
      "cell_type": "code",
      "source": [
        ""
      ],
      "metadata": {
        "id": "tiCzrPI45kFn"
      },
      "execution_count": null,
      "outputs": []
    }
  ]
}