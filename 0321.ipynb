{
  "nbformat": 4,
  "nbformat_minor": 0,
  "metadata": {
    "colab": {
      "name": "0321.ipynb",
      "provenance": [],
      "collapsed_sections": [],
      "authorship_tag": "ABX9TyNrFB2JGaC+sxcF8bhI4EiU",
      "include_colab_link": true
    },
    "kernelspec": {
      "name": "python3",
      "display_name": "Python 3"
    },
    "language_info": {
      "name": "python"
    }
  },
  "cells": [
    {
      "cell_type": "markdown",
      "metadata": {
        "id": "view-in-github",
        "colab_type": "text"
      },
      "source": [
        "<a href=\"https://colab.research.google.com/github/yu0115/Introduction-to-Computers/blob/main/0321.ipynb\" target=\"_parent\"><img src=\"https://colab.research.google.com/assets/colab-badge.svg\" alt=\"Open In Colab\"/></a>"
      ]
    },
    {
      "cell_type": "code",
      "execution_count": 3,
      "metadata": {
        "colab": {
          "base_uri": "https://localhost:8080/"
        },
        "id": "MlfW7UE9jthb",
        "outputId": "89a34595-22e5-40d7-9088-616f0caa67b0"
      },
      "outputs": [
        {
          "output_type": "stream",
          "name": "stdout",
          "text": [
            "123\n"
          ]
        }
      ],
      "source": [
        "print(\"123\")"
      ]
    },
    {
      "cell_type": "code",
      "source": [
        "num1 = 1 + 1.1"
      ],
      "metadata": {
        "id": "opA16hYSkAY0"
      },
      "execution_count": 4,
      "outputs": []
    },
    {
      "cell_type": "code",
      "source": [
        "num1"
      ],
      "metadata": {
        "colab": {
          "base_uri": "https://localhost:8080/"
        },
        "id": "w82dANRokN-J",
        "outputId": "519cb177-d76e-40e7-8a60-6233143efcbb"
      },
      "execution_count": 7,
      "outputs": [
        {
          "output_type": "execute_result",
          "data": {
            "text/plain": [
              "2.1"
            ]
          },
          "metadata": {},
          "execution_count": 7
        }
      ]
    },
    {
      "cell_type": "code",
      "source": [
        "int(num1)"
      ],
      "metadata": {
        "colab": {
          "base_uri": "https://localhost:8080/"
        },
        "id": "hEtFV4YvkTyW",
        "outputId": "2cd2759f-808e-4bf6-996f-d6b1be484db8"
      },
      "execution_count": 10,
      "outputs": [
        {
          "output_type": "execute_result",
          "data": {
            "text/plain": [
              "2"
            ]
          },
          "metadata": {},
          "execution_count": 10
        }
      ]
    },
    {
      "cell_type": "code",
      "source": [
        "str(num1)"
      ],
      "metadata": {
        "colab": {
          "base_uri": "https://localhost:8080/",
          "height": 35
        },
        "id": "TUlTHut9kW30",
        "outputId": "271289cf-7f0f-43b8-cff3-fba5cc279881"
      },
      "execution_count": 11,
      "outputs": [
        {
          "output_type": "execute_result",
          "data": {
            "text/plain": [
              "'2.1'"
            ],
            "application/vnd.google.colaboratory.intrinsic+json": {
              "type": "string"
            }
          },
          "metadata": {},
          "execution_count": 11
        }
      ]
    },
    {
      "cell_type": "code",
      "source": [
        "num2 = 2"
      ],
      "metadata": {
        "id": "YGpQv3ypketN"
      },
      "execution_count": 15,
      "outputs": []
    },
    {
      "cell_type": "code",
      "source": [
        "num2"
      ],
      "metadata": {
        "colab": {
          "base_uri": "https://localhost:8080/"
        },
        "id": "wzrp54Mhkhi8",
        "outputId": "6808b4d7-1a66-4156-e057-365e7567cecd"
      },
      "execution_count": 16,
      "outputs": [
        {
          "output_type": "execute_result",
          "data": {
            "text/plain": [
              "2"
            ]
          },
          "metadata": {},
          "execution_count": 16
        }
      ]
    },
    {
      "cell_type": "code",
      "source": [
        "float(num2)"
      ],
      "metadata": {
        "colab": {
          "base_uri": "https://localhost:8080/"
        },
        "id": "jrAwRmAFkmNl",
        "outputId": "4b6e01cd-7f59-4fad-e389-e0664a2e741c"
      },
      "execution_count": 17,
      "outputs": [
        {
          "output_type": "execute_result",
          "data": {
            "text/plain": [
              "2.0"
            ]
          },
          "metadata": {},
          "execution_count": 17
        }
      ]
    },
    {
      "cell_type": "code",
      "source": [
        "print(type(num1))"
      ],
      "metadata": {
        "colab": {
          "base_uri": "https://localhost:8080/"
        },
        "id": "8d-mreoskwrt",
        "outputId": "c1f9b6f1-7bdd-4c06-b903-cb90fd21e347"
      },
      "execution_count": 18,
      "outputs": [
        {
          "output_type": "stream",
          "name": "stdout",
          "text": [
            "<class 'float'>\n"
          ]
        }
      ]
    },
    {
      "cell_type": "code",
      "source": [
        "print(type(num2))"
      ],
      "metadata": {
        "colab": {
          "base_uri": "https://localhost:8080/"
        },
        "id": "mM-ao7BMlYVU",
        "outputId": "b4387e2e-ba9b-455d-a6e0-be7158b26436"
      },
      "execution_count": 20,
      "outputs": [
        {
          "output_type": "stream",
          "name": "stdout",
          "text": [
            "<class 'int'>\n"
          ]
        }
      ]
    },
    {
      "cell_type": "code",
      "source": [
        "a = 1\n",
        "b = 2\n",
        "c = 3"
      ],
      "metadata": {
        "id": "oEk-DfETlfgT"
      },
      "execution_count": 21,
      "outputs": []
    },
    {
      "cell_type": "code",
      "source": [
        "print(a,b,c)"
      ],
      "metadata": {
        "colab": {
          "base_uri": "https://localhost:8080/"
        },
        "id": "dRZ24ixxl9-G",
        "outputId": "c074510c-ec6d-41e1-e6fc-0efdb1799895"
      },
      "execution_count": 22,
      "outputs": [
        {
          "output_type": "stream",
          "name": "stdout",
          "text": [
            "1 2 3\n"
          ]
        }
      ]
    },
    {
      "cell_type": "code",
      "source": [
        "print([a,b,c])"
      ],
      "metadata": {
        "colab": {
          "base_uri": "https://localhost:8080/"
        },
        "id": "5G1JFmA5mBn6",
        "outputId": "0abc8bc6-68b3-48a8-df0f-55bce9191bdb"
      },
      "execution_count": 23,
      "outputs": [
        {
          "output_type": "stream",
          "name": "stdout",
          "text": [
            "[1, 2, 3]\n"
          ]
        }
      ]
    },
    {
      "cell_type": "code",
      "source": [
        "print(a,[b,c])"
      ],
      "metadata": {
        "colab": {
          "base_uri": "https://localhost:8080/"
        },
        "id": "pYsUg3LDmG6y",
        "outputId": "16836f35-7703-4d53-ff8a-4102c38d6d5a"
      },
      "execution_count": 24,
      "outputs": [
        {
          "output_type": "stream",
          "name": "stdout",
          "text": [
            "1 [2, 3]\n"
          ]
        }
      ]
    },
    {
      "cell_type": "code",
      "source": [
        "print('hey','hi','hello')\n",
        "print('hey','hi','hello',sep='_')\n",
        "print('hey','hi','hello',sep='\\t')\n",
        "print('hey','hi','hello',sep='\\n')"
      ],
      "metadata": {
        "colab": {
          "base_uri": "https://localhost:8080/"
        },
        "id": "5h0vC9dsmNsK",
        "outputId": "135f6418-f824-455b-9182-08c6c393c01f"
      },
      "execution_count": 29,
      "outputs": [
        {
          "output_type": "stream",
          "name": "stdout",
          "text": [
            "hey hi hello\n",
            "hey_hi_hello\n",
            "hey\thi\thello\n",
            "hey\n",
            "hi\n",
            "hello\n"
          ]
        }
      ]
    },
    {
      "cell_type": "code",
      "source": [
        "print('午安,')\n",
        "print('同學好！')\n",
        "print('打起精神來！！')"
      ],
      "metadata": {
        "colab": {
          "base_uri": "https://localhost:8080/"
        },
        "id": "3EYfOKzPmcTR",
        "outputId": "84d22b62-4e2f-4ec4-a9f1-122fe435049e"
      },
      "execution_count": 33,
      "outputs": [
        {
          "output_type": "stream",
          "name": "stdout",
          "text": [
            "午安,\n",
            "同學好！\n",
            "打起精神來！！\n"
          ]
        }
      ]
    },
    {
      "cell_type": "code",
      "source": [
        "print('午安,','同學好！','打起精神來！！！',sep='\\n')"
      ],
      "metadata": {
        "colab": {
          "base_uri": "https://localhost:8080/"
        },
        "id": "f3AfyGYnmyDQ",
        "outputId": "6a5d4a47-0775-4754-c71a-ed8fe1568792"
      },
      "execution_count": 39,
      "outputs": [
        {
          "output_type": "stream",
          "name": "stdout",
          "text": [
            "午安,\n",
            "同學好！\n",
            "打起精神來！！！\n"
          ]
        }
      ]
    },
    {
      "cell_type": "code",
      "source": [
        "print(123)\n",
        "print(456)"
      ],
      "metadata": {
        "colab": {
          "base_uri": "https://localhost:8080/"
        },
        "id": "E6U-wS9apMz_",
        "outputId": "aa11ba0f-57e4-4e86-e81b-adccedf206c2"
      },
      "execution_count": 37,
      "outputs": [
        {
          "output_type": "stream",
          "name": "stdout",
          "text": [
            "123\n",
            "456\n"
          ]
        }
      ]
    },
    {
      "cell_type": "code",
      "source": [
        "print(123,end=',')\n",
        "print(456)"
      ],
      "metadata": {
        "colab": {
          "base_uri": "https://localhost:8080/"
        },
        "id": "v-exm0xYpRfC",
        "outputId": "fe5db1b9-8f76-434e-89e3-97d58ca02bdd"
      },
      "execution_count": 41,
      "outputs": [
        {
          "output_type": "stream",
          "name": "stdout",
          "text": [
            "123,456\n"
          ]
        }
      ]
    },
    {
      "cell_type": "code",
      "source": [
        "print(123,end='')\n",
        "print(456)"
      ],
      "metadata": {
        "colab": {
          "base_uri": "https://localhost:8080/"
        },
        "id": "3UehQUZvphZF",
        "outputId": "6f436926-835c-4097-d2e2-178cd58f7015"
      },
      "execution_count": 43,
      "outputs": [
        {
          "output_type": "stream",
          "name": "stdout",
          "text": [
            "123456\n"
          ]
        }
      ]
    },
    {
      "cell_type": "code",
      "source": [
        "print('午安','同學好','打起精神來',sep='_',end='！！！')"
      ],
      "metadata": {
        "colab": {
          "base_uri": "https://localhost:8080/"
        },
        "id": "WZbpXIlxppvC",
        "outputId": "00c27771-4bf4-49a7-e3a8-9a8554b9656a"
      },
      "execution_count": 49,
      "outputs": [
        {
          "output_type": "stream",
          "name": "stdout",
          "text": [
            "午安_同學好_打起精神來！！！"
          ]
        }
      ]
    },
    {
      "cell_type": "code",
      "source": [
        "print('早上好','平安順心','健康如意',sep=',',end = '^^')"
      ],
      "metadata": {
        "colab": {
          "base_uri": "https://localhost:8080/"
        },
        "id": "dUevtXGkqslA",
        "outputId": "00314f8c-b443-417a-a0de-cbf9902c79ed"
      },
      "execution_count": 92,
      "outputs": [
        {
          "output_type": "stream",
          "name": "stdout",
          "text": [
            "早上好,平安順心,健康如意^^"
          ]
        }
      ]
    },
    {
      "cell_type": "code",
      "source": [
        "test1 = input(\"輸入\")"
      ],
      "metadata": {
        "colab": {
          "base_uri": "https://localhost:8080/"
        },
        "id": "BywIl9CLv2Ig",
        "outputId": "d01045d2-4ef5-42ab-cc09-e147176ff4b4"
      },
      "execution_count": 55,
      "outputs": [
        {
          "name": "stdout",
          "output_type": "stream",
          "text": [
            "輸入123\n"
          ]
        }
      ]
    },
    {
      "cell_type": "code",
      "source": [
        "test2 = int(input(\"輸入\"))"
      ],
      "metadata": {
        "colab": {
          "base_uri": "https://localhost:8080/"
        },
        "id": "gv5eCX6ZxObl",
        "outputId": "425d1092-16d0-451d-880e-d4348c73270e"
      },
      "execution_count": 59,
      "outputs": [
        {
          "name": "stdout",
          "output_type": "stream",
          "text": [
            "輸入123\n"
          ]
        }
      ]
    },
    {
      "cell_type": "code",
      "source": [
        "test2"
      ],
      "metadata": {
        "colab": {
          "base_uri": "https://localhost:8080/"
        },
        "id": "Q_qNS6dExacc",
        "outputId": "39e990d8-b7a1-4ac0-b542-b6cbe8f3e08b"
      },
      "execution_count": 60,
      "outputs": [
        {
          "output_type": "execute_result",
          "data": {
            "text/plain": [
              "123"
            ]
          },
          "metadata": {},
          "execution_count": 60
        }
      ]
    },
    {
      "cell_type": "code",
      "source": [
        "print(type(test2))"
      ],
      "metadata": {
        "colab": {
          "base_uri": "https://localhost:8080/"
        },
        "id": "fy7u2pnLrUBw",
        "outputId": "7fe28043-ab43-408e-88c9-bb0d82906168"
      },
      "execution_count": 61,
      "outputs": [
        {
          "output_type": "stream",
          "name": "stdout",
          "text": [
            "<class 'int'>\n"
          ]
        }
      ]
    },
    {
      "cell_type": "code",
      "source": [
        "test2+1"
      ],
      "metadata": {
        "colab": {
          "base_uri": "https://localhost:8080/"
        },
        "id": "wLVrjMRNwXsr",
        "outputId": "7b7c7cf8-73a0-4c86-d0ea-2cd0a23162e7"
      },
      "execution_count": 62,
      "outputs": [
        {
          "output_type": "execute_result",
          "data": {
            "text/plain": [
              "124"
            ]
          },
          "metadata": {},
          "execution_count": 62
        }
      ]
    },
    {
      "cell_type": "code",
      "source": [
        "test3 = int(input('請輸入月份'))\n",
        "test4 = int(input('請輸入日期'))"
      ],
      "metadata": {
        "colab": {
          "base_uri": "https://localhost:8080/"
        },
        "id": "ndrU801fweXz",
        "outputId": "c9a4451a-decc-41ed-b39d-bc3361a288fa"
      },
      "execution_count": 65,
      "outputs": [
        {
          "name": "stdout",
          "output_type": "stream",
          "text": [
            "請輸入月份3\n",
            "請輸入日期21\n"
          ]
        }
      ]
    },
    {
      "cell_type": "code",
      "source": [
        "test3"
      ],
      "metadata": {
        "colab": {
          "base_uri": "https://localhost:8080/"
        },
        "id": "ukO2ippKx60R",
        "outputId": "89073c20-111a-472a-8e55-2936030c5b2f"
      },
      "execution_count": 66,
      "outputs": [
        {
          "output_type": "execute_result",
          "data": {
            "text/plain": [
              "3"
            ]
          },
          "metadata": {},
          "execution_count": 66
        }
      ]
    },
    {
      "cell_type": "code",
      "source": [
        "test4"
      ],
      "metadata": {
        "colab": {
          "base_uri": "https://localhost:8080/"
        },
        "id": "phmp3Jxhy5FL",
        "outputId": "b004358c-bb58-47b7-b20d-1eb89c8f13a8"
      },
      "execution_count": 67,
      "outputs": [
        {
          "output_type": "execute_result",
          "data": {
            "text/plain": [
              "21"
            ]
          },
          "metadata": {},
          "execution_count": 67
        }
      ]
    },
    {
      "cell_type": "code",
      "source": [
        "print('今天是',test3,'月',test4,'號',sep ='')"
      ],
      "metadata": {
        "colab": {
          "base_uri": "https://localhost:8080/"
        },
        "id": "gANeDc14y79e",
        "outputId": "9cd6c6d7-78b0-4c51-9c1a-68d0123e2379"
      },
      "execution_count": 69,
      "outputs": [
        {
          "output_type": "stream",
          "name": "stdout",
          "text": [
            "今天是3月21號\n"
          ]
        }
      ]
    },
    {
      "cell_type": "code",
      "source": [
        "test5 = int(input(\"請輸入國文成績\"))\n",
        "test6 = int(input(\"請輸入英文成績\"))\n",
        "test7 = int(input(\"請輸入數學成績\"))\n",
        "test8 = int(input(\"你的總成績分為:\"))"
      ],
      "metadata": {
        "colab": {
          "base_uri": "https://localhost:8080/"
        },
        "id": "Ci9JfSqNzQUr",
        "outputId": "a47abe75-9a5c-45e2-944f-0881e5daa0ab"
      },
      "execution_count": 93,
      "outputs": [
        {
          "name": "stdout",
          "output_type": "stream",
          "text": [
            "請輸入國文成績50\n",
            "請輸入英文成績60\n",
            "請輸入數學成績70\n",
            "你的總成績分為:180\n"
          ]
        }
      ]
    },
    {
      "cell_type": "code",
      "source": [
        ""
      ],
      "metadata": {
        "id": "xjgngTeb-XCB"
      },
      "execution_count": 93,
      "outputs": []
    }
  ]
}